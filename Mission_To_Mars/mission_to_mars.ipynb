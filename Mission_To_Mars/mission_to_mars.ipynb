{
 "cells": [
  {
   "cell_type": "code",
   "execution_count": 1,
   "metadata": {},
   "outputs": [],
   "source": [
    "# Import module used to connect Python with MongoDb\n",
    "import pymongo\n",
    "# Import BeautifulSoup\n",
    "from bs4 import BeautifulSoup as bs\n",
    "# Import Requests module\n",
    "import requests\n",
    "# Import splinter\n",
    "from splinter import Browser\n",
    "from webdriver_manager.chrome import ChromeDriverManager\n",
    "# Import Pandas\n",
    "import pandas as pd\n",
    "\n",
    "# Test GitHub Push"
   ]
  },
  {
   "cell_type": "code",
   "execution_count": 2,
   "metadata": {},
   "outputs": [],
   "source": [
    "# The default port used by MongoDB is 27017\n",
    "# https://docs.mongodb.com/manual/reference/default-mongodb-port/\n",
    "conn = 'mongodb://localhost:27017'\n",
    "client = pymongo.MongoClient(conn)\n",
    "# Define the 'classDB' database in Mongo\n",
    "db = client.classDB"
   ]
  },
  {
   "cell_type": "code",
   "execution_count": 3,
   "metadata": {},
   "outputs": [],
   "source": [
    "# Setup splinter\n",
    "executable_path = {'executable_path': 'C:/Users/diane/.wdm/drivers/chromedriver/win32/87.0.4280.88/chromedriver'}\n",
    "browser = Browser('chrome', **executable_path, headless=False)"
   ]
  },
  {
   "cell_type": "code",
   "execution_count": 4,
   "metadata": {},
   "outputs": [],
   "source": [
    "# Scrape for Mars News text"
   ]
  },
  {
   "cell_type": "code",
   "execution_count": 5,
   "metadata": {},
   "outputs": [],
   "source": [
    "url = 'https://mars.nasa.gov/news/'\n",
    "browser.visit(url)"
   ]
  },
  {
   "cell_type": "code",
   "execution_count": 8,
   "metadata": {},
   "outputs": [
    {
     "name": "stdout",
     "output_type": "stream",
     "text": [
      "December 22, 2020\n",
      "A Martian Roundtrip: NASA's Perseverance Rover Sample Tubes\n",
      "Marvels of engineering, the rover's sample tubes must be tough enough to safely bring Red Planet samples on the long journey back to Earth in immaculate condition. \n"
     ]
    }
   ],
   "source": [
    "html = browser.html\n",
    "soup = bs(html, 'html.parser')\n",
    "slides = soup.find('li', class_='slide')\n",
    "news_date = slides.find_all('div', class_='list_date')[0].text\n",
    "news_title = slides.find_all('h3')[0].text\n",
    "news_p = slides.find_all('div', class_='rollover_description_inner')[0].text\n",
    "print(news_date)\n",
    "print(news_title)\n",
    "print(news_p)"
   ]
  },
  {
   "cell_type": "code",
   "execution_count": null,
   "metadata": {},
   "outputs": [],
   "source": [
    "# Scrape for Mars featured image url"
   ]
  },
  {
   "cell_type": "code",
   "execution_count": null,
   "metadata": {},
   "outputs": [],
   "source": [
    "url = 'https://www.jpl.nasa.gov/spaceimages/?search=&category=Mars'\n",
    "browser.visit(url)"
   ]
  },
  {
   "cell_type": "code",
   "execution_count": null,
   "metadata": {},
   "outputs": [],
   "source": [
    "html = browser.html\n",
    "soup = bs(html, 'html.parser')\n",
    "carousel = soup.find('article', class_='carousel_item')\n",
    "featured_image_url = carousel.find('a').get('data-fancybox-href')\n",
    "featured_image_url = 'https://www.jpl.nasa.gov/' + featured_image_url\n",
    "print(featured_image_url)"
   ]
  },
  {
   "cell_type": "code",
   "execution_count": null,
   "metadata": {},
   "outputs": [],
   "source": [
    "# Scrape for Mars facts table"
   ]
  },
  {
   "cell_type": "code",
   "execution_count": null,
   "metadata": {},
   "outputs": [],
   "source": [
    "url = 'https://space-facts.com/mars/'"
   ]
  },
  {
   "cell_type": "code",
   "execution_count": null,
   "metadata": {},
   "outputs": [],
   "source": [
    "tables = pd.read_html(url)\n",
    "df = tables[0]\n",
    "df.index.name = None\n",
    "html_table = df.to_html()\n",
    "df.to_html('static/mars_facts_table.html')\n",
    "print(df)"
   ]
  },
  {
   "cell_type": "code",
   "execution_count": null,
   "metadata": {},
   "outputs": [],
   "source": [
    "# Mars Hemisphere Images"
   ]
  },
  {
   "cell_type": "code",
   "execution_count": null,
   "metadata": {},
   "outputs": [],
   "source": [
    "hemisphere_image_urls = []"
   ]
  },
  {
   "cell_type": "code",
   "execution_count": null,
   "metadata": {},
   "outputs": [],
   "source": [
    "url = 'https://astrogeology.usgs.gov/search/map/Mars/Viking/cerberus_enhanced'"
   ]
  },
  {
   "cell_type": "code",
   "execution_count": null,
   "metadata": {},
   "outputs": [],
   "source": [
    "browser.visit(url)\n",
    "html = browser.html\n",
    "soup = bs(html, 'html.parser')\n",
    "title = soup.find('h2', class_='title').text\n",
    "hemisphere_image_urls.append(title)\n",
    "ul = soup.find('ul')\n",
    "img_url = ul.find('a')['href']\n",
    "hemisphere_image_urls.append(img_url)\n",
    "print(hemisphere_image_urls)"
   ]
  },
  {
   "cell_type": "code",
   "execution_count": null,
   "metadata": {},
   "outputs": [],
   "source": [
    "url = 'https://astrogeology.usgs.gov/search/map/Mars/Viking/schiaparelli_enhanced'"
   ]
  },
  {
   "cell_type": "code",
   "execution_count": null,
   "metadata": {},
   "outputs": [],
   "source": [
    "browser.visit(url)\n",
    "html = browser.html\n",
    "soup = bs(html, 'html.parser')\n",
    "title = soup.find('h2', class_='title').text\n",
    "hemisphere_image_urls.append(title)\n",
    "ul = soup.find('ul')\n",
    "img_url = ul.find('a')['href']\n",
    "hemisphere_image_urls.append(img_url)\n",
    "print(hemisphere_image_urls)"
   ]
  },
  {
   "cell_type": "code",
   "execution_count": null,
   "metadata": {},
   "outputs": [],
   "source": [
    "url = 'https://astrogeology.usgs.gov/search/map/Mars/Viking/syrtis_major_enhanced'"
   ]
  },
  {
   "cell_type": "code",
   "execution_count": null,
   "metadata": {},
   "outputs": [],
   "source": [
    "browser.visit(url)\n",
    "html = browser.html\n",
    "soup = bs(html, 'html.parser')\n",
    "title = soup.find('h2', class_='title').text\n",
    "hemisphere_image_urls.append(title)\n",
    "ul = soup.find('ul')\n",
    "img_url = ul.find('a')['href']\n",
    "hemisphere_image_urls.append(img_url)\n",
    "print(hemisphere_image_urls)"
   ]
  },
  {
   "cell_type": "code",
   "execution_count": null,
   "metadata": {},
   "outputs": [],
   "source": [
    "url = 'https://astrogeology.usgs.gov/search/map/Mars/Viking/valles_marineris_enhanced'"
   ]
  },
  {
   "cell_type": "code",
   "execution_count": null,
   "metadata": {},
   "outputs": [],
   "source": [
    "browser.visit(url)\n",
    "html = browser.html\n",
    "soup = bs(html, 'html.parser')\n",
    "title = soup.find('h2', class_='title').text\n",
    "hemisphere_image_urls.append(title)\n",
    "ul = soup.find('ul')\n",
    "img_url = ul.find('a')['href']\n",
    "hemisphere_image_urls.append(img_url)\n",
    "print(hemisphere_image_urls)"
   ]
  },
  {
   "cell_type": "code",
   "execution_count": null,
   "metadata": {},
   "outputs": [],
   "source": [
    "# Define a function to convert the list to a dictionary\n",
    "def Convert(a):\n",
    "    it = iter(a)\n",
    "    res_dct = dict(zip(it, it))\n",
    "    return res_dct\n",
    "         \n",
    "# Driver code\n",
    "print(Convert(hemisphere_image_urls))"
   ]
  }
 ],
 "metadata": {
  "kernelspec": {
   "display_name": "Python 3",
   "language": "python",
   "name": "python3"
  },
  "language_info": {
   "codemirror_mode": {
    "name": "ipython",
    "version": 3
   },
   "file_extension": ".py",
   "mimetype": "text/x-python",
   "name": "python",
   "nbconvert_exporter": "python",
   "pygments_lexer": "ipython3",
   "version": "3.8.5"
  }
 },
 "nbformat": 4,
 "nbformat_minor": 4
}
