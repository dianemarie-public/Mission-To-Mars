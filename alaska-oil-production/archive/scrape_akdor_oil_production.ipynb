{
 "cells": [
  {
   "cell_type": "markdown",
   "id": "f783f594",
   "metadata": {},
   "source": [
    "# Scrape the Alaska Department of Revenue website for North Slope oil production data\n",
    "- Background (thought process?)\n",
    "- Scope\n",
    "- Tools\n",
    "- Summary Statistics\n",
    "- Analysis\n",
    "- Areas for improvement, further study"
   ]
  },
  {
   "cell_type": "markdown",
   "id": "a4f2310a",
   "metadata": {},
   "source": [
    "### Scrape the dropdown selection menu for urls containing html data tables"
   ]
  },
  {
   "cell_type": "code",
   "execution_count": 1,
   "id": "8691d504",
   "metadata": {},
   "outputs": [
    {
     "data": {
      "text/plain": [
       "251"
      ]
     },
     "execution_count": 1,
     "metadata": {},
     "output_type": "execute_result"
    }
   ],
   "source": [
    "from gazpacho import get, Soup\n",
    "\n",
    "url = \"https://tax.alaska.gov/programs/oil/production/ans.aspx?\"\n",
    "# url\n",
    "\n",
    "html = get(url)\n",
    "# html\n",
    "\n",
    "soup = Soup(html)\n",
    "# soup\n",
    "\n",
    "list = soup.find('option')[1:]\n",
    "# list\n",
    "\n",
    "length = len(list)\n",
    "# length\n",
    "\n",
    "urls = []\n",
    "# urls\n",
    "\n",
    "for i in range(length):\n",
    "    options = list[i].attrs['value']\n",
    "    urls.append(url + options)\n",
    "\n",
    "url_count = len(urls)\n",
    "url_count"
   ]
  },
  {
   "cell_type": "markdown",
   "id": "ec5dbd2c",
   "metadata": {},
   "source": [
    "### Scrape the html data tables, convert datatypes, delete empty columns and null rows then export to csv"
   ]
  },
  {
   "cell_type": "code",
   "execution_count": 2,
   "id": "36031c24",
   "metadata": {},
   "outputs": [],
   "source": [
    "import pandas as pd\n",
    "\n",
    "for url in urls:\n",
    "    df = pd.read_html(url)[6]\n",
    "    df = df.loc[0:]\n",
    "    df[1] = pd.to_numeric(df[1],errors='coerce')\n",
    "    df[2] = pd.to_numeric(df[2],errors='coerce')\n",
    "    df[3] = pd.to_numeric(df[3],errors='coerce')\n",
    "    df[4] = pd.to_numeric(df[4],errors='coerce')\n",
    "    df[5] = pd.to_numeric(df[5],errors='coerce')\n",
    "    df[6] = pd.to_numeric(df[6],errors='coerce')\n",
    "    df[7] = pd.to_numeric(df[7],errors='coerce')\n",
    "    del df[8]\n",
    "    del df[9]\n",
    "    del df[10]\n",
    "    del df[11]\n",
    "    del df[12]\n",
    "    df = df.dropna(how='any')\n",
    "    df = df[df[0] != 'Average']\n",
    "    df.head(1)\n",
    "    df.to_csv('akdor_oil_production.csv', mode='a', header=[\"Date\", \"PrudhoeBay\", \"Kaparuk\", \"Endicott\", \"Lisburne\", \"Alpine\", \"ANS\", \"Inventories\"], index=False)"
   ]
  },
  {
   "cell_type": "markdown",
   "id": "67bc9568",
   "metadata": {},
   "source": [
    "### Rather than replace all the data/rows, join the new dataframe to the existing .csv then save over existing .csv"
   ]
  },
  {
   "cell_type": "code",
   "execution_count": null,
   "id": "c72fd49e",
   "metadata": {},
   "outputs": [],
   "source": [
    "# Read scraped data file into Pandas\n",
    "data_df = pd.read_csv('akdor_oil_production.csv')\n",
    "\n",
    "# Rename columns\n",
    "# data_df = data_df.rename(columns={'1':'PrudhoeBay','2':'Kuparuk','3':'Endicott','4':'Lisburne','5':'Alpine', '6':'ANS','7':'Inventories'})\n",
    "\n",
    "# Drop null values\n",
    "data_df.dropna(how='any')\n",
    "\n",
    "# Delete rows containing the word/string \"Date\"\n",
    "data_df = data_df[data_df[\"Date\"].str.contains(\"Date\")==False]\n",
    "\n",
    "# Show data types\n",
    "data_df.dtypes"
   ]
  },
  {
   "cell_type": "code",
   "execution_count": null,
   "id": "8ab8b2b3",
   "metadata": {},
   "outputs": [],
   "source": [
    "# Change datatypes\n",
    "data_df['PrudhoeBay'] = pd.to_numeric(data_df['PrudhoeBay'],errors='coerce')\n",
    "data_df['Kuparuk'] = pd.to_numeric(data_df['PrudhoeBay'],errors='coerce')\n",
    "data_df['Endicott'] = pd.to_numeric(data_df['PrudhoeBay'],errors='coerce')\n",
    "data_df['Lisburne'] = pd.to_numeric(data_df['PrudhoeBay'],errors='coerce')\n",
    "data_df['Alpine'] = pd.to_numeric(data_df['PrudhoeBay'],errors='coerce')\n",
    "data_df['ANS'] = pd.to_numeric(data_df['PrudhoeBay'],errors='coerce')\n",
    "data_df['Inventories'] = pd.to_numeric(data_df['PrudhoeBay'],errors='coerce')\n",
    "data_df"
   ]
  },
  {
   "cell_type": "code",
   "execution_count": null,
   "id": "17d6c412",
   "metadata": {},
   "outputs": [],
   "source": []
  },
  {
   "cell_type": "code",
   "execution_count": null,
   "id": "84acfda4",
   "metadata": {},
   "outputs": [],
   "source": [
    "def get_urls():\n",
    "    \n",
    "    from gazpacho import get, Soup\n",
    "\n",
    "    url = \"https://tax.alaska.gov/programs/oil/production/ans.aspx?\"\n",
    "    html = get(url)\n",
    "    soup = Soup(html)\n",
    "    list = soup.find('option')[1:]\n",
    "    length = len(list)\n",
    "    urls = []\n",
    "\n",
    "    for i in range(length):\n",
    "        options = list[i].attrs['value']\n",
    "        urls.append(url + options)\n",
    "    \n",
    "    return urls"
   ]
  }
 ],
 "metadata": {
  "kernelspec": {
   "display_name": "Python [conda env:my_conda]",
   "language": "python",
   "name": "conda-env-my_conda-py"
  },
  "language_info": {
   "codemirror_mode": {
    "name": "ipython",
    "version": 3
   },
   "file_extension": ".py",
   "mimetype": "text/x-python",
   "name": "python",
   "nbconvert_exporter": "python",
   "pygments_lexer": "ipython3",
   "version": "3.8.11"
  }
 },
 "nbformat": 4,
 "nbformat_minor": 5
}
