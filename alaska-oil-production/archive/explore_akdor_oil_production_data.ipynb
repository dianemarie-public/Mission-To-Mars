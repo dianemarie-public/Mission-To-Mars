{
 "cells": [
  {
   "cell_type": "code",
   "execution_count": 1,
   "id": "94484951",
   "metadata": {},
   "outputs": [],
   "source": [
    "import pandas as pd\n",
    "import seaborn as sns\n",
    "import matplotlib as plt"
   ]
  },
  {
   "cell_type": "code",
   "execution_count": 2,
   "id": "7f9dc0dc",
   "metadata": {
    "scrolled": true
   },
   "outputs": [
    {
     "name": "stderr",
     "output_type": "stream",
     "text": [
      "C:\\Users\\diane\\anaconda3\\lib\\site-packages\\IPython\\core\\interactiveshell.py:3441: DtypeWarning: Columns (1,2,3,4,5,6,7) have mixed types.Specify dtype option on import or set low_memory=False.\n",
      "  exec(code_obj, self.user_global_ns, self.user_ns)\n"
     ]
    }
   ],
   "source": [
    "# Read scraped data file into Pandas\n",
    "data_df = pd.read_csv('akdor_oil_production.csv')"
   ]
  },
  {
   "cell_type": "code",
   "execution_count": 3,
   "id": "dcf0192d",
   "metadata": {},
   "outputs": [],
   "source": [
    "data_df = data_df.rename(columns={'1':'PrudhoeBay','2':'Kuparuk','3':'Endicott','4':'Lisburne','5':'Alpine', '6':'ANS','7':'Inventories'})"
   ]
  },
  {
   "cell_type": "code",
   "execution_count": 4,
   "id": "5fd64bc2",
   "metadata": {},
   "outputs": [
    {
     "data": {
      "text/html": [
       "<div>\n",
       "<style scoped>\n",
       "    .dataframe tbody tr th:only-of-type {\n",
       "        vertical-align: middle;\n",
       "    }\n",
       "\n",
       "    .dataframe tbody tr th {\n",
       "        vertical-align: top;\n",
       "    }\n",
       "\n",
       "    .dataframe thead th {\n",
       "        text-align: right;\n",
       "    }\n",
       "</style>\n",
       "<table border=\"1\" class=\"dataframe\">\n",
       "  <thead>\n",
       "    <tr style=\"text-align: right;\">\n",
       "      <th></th>\n",
       "      <th>Date</th>\n",
       "      <th>PrudhoeBay</th>\n",
       "      <th>Kuparuk</th>\n",
       "      <th>Endicott</th>\n",
       "      <th>Lisburne</th>\n",
       "      <th>Alpine</th>\n",
       "      <th>ANS</th>\n",
       "      <th>Inventories</th>\n",
       "    </tr>\n",
       "  </thead>\n",
       "  <tbody>\n",
       "    <tr>\n",
       "      <th>0</th>\n",
       "      <td>9/1/2021</td>\n",
       "      <td>292022</td>\n",
       "      <td>88063</td>\n",
       "      <td>0</td>\n",
       "      <td>21068</td>\n",
       "      <td>49002</td>\n",
       "      <td>450155</td>\n",
       "      <td>1623874</td>\n",
       "    </tr>\n",
       "    <tr>\n",
       "      <th>1</th>\n",
       "      <td>9/2/2021</td>\n",
       "      <td>298546</td>\n",
       "      <td>92461</td>\n",
       "      <td>0</td>\n",
       "      <td>20472</td>\n",
       "      <td>48452</td>\n",
       "      <td>459930</td>\n",
       "      <td>1530847</td>\n",
       "    </tr>\n",
       "    <tr>\n",
       "      <th>2</th>\n",
       "      <td>9/3/2021</td>\n",
       "      <td>289929</td>\n",
       "      <td>94146</td>\n",
       "      <td>0</td>\n",
       "      <td>18449</td>\n",
       "      <td>47901</td>\n",
       "      <td>450424</td>\n",
       "      <td>1234895</td>\n",
       "    </tr>\n",
       "    <tr>\n",
       "      <th>3</th>\n",
       "      <td>9/4/2021</td>\n",
       "      <td>296408</td>\n",
       "      <td>94549</td>\n",
       "      <td>0</td>\n",
       "      <td>18157</td>\n",
       "      <td>47449</td>\n",
       "      <td>456562</td>\n",
       "      <td>1624191</td>\n",
       "    </tr>\n",
       "    <tr>\n",
       "      <th>4</th>\n",
       "      <td>9/5/2021</td>\n",
       "      <td>298994</td>\n",
       "      <td>94469</td>\n",
       "      <td>0</td>\n",
       "      <td>20177</td>\n",
       "      <td>47702</td>\n",
       "      <td>461343</td>\n",
       "      <td>1388480</td>\n",
       "    </tr>\n",
       "  </tbody>\n",
       "</table>\n",
       "</div>"
      ],
      "text/plain": [
       "       Date PrudhoeBay Kuparuk Endicott Lisburne Alpine     ANS Inventories\n",
       "0  9/1/2021     292022   88063        0    21068  49002  450155     1623874\n",
       "1  9/2/2021     298546   92461        0    20472  48452  459930     1530847\n",
       "2  9/3/2021     289929   94146        0    18449  47901  450424     1234895\n",
       "3  9/4/2021     296408   94549        0    18157  47449  456562     1624191\n",
       "4  9/5/2021     298994   94469        0    20177  47702  461343     1388480"
      ]
     },
     "execution_count": 4,
     "metadata": {},
     "output_type": "execute_result"
    }
   ],
   "source": [
    "data_df.head()"
   ]
  },
  {
   "cell_type": "code",
   "execution_count": 5,
   "id": "d3d8b2ce",
   "metadata": {},
   "outputs": [
    {
     "data": {
      "text/html": [
       "<div>\n",
       "<style scoped>\n",
       "    .dataframe tbody tr th:only-of-type {\n",
       "        vertical-align: middle;\n",
       "    }\n",
       "\n",
       "    .dataframe tbody tr th {\n",
       "        vertical-align: top;\n",
       "    }\n",
       "\n",
       "    .dataframe thead th {\n",
       "        text-align: right;\n",
       "    }\n",
       "</style>\n",
       "<table border=\"1\" class=\"dataframe\">\n",
       "  <thead>\n",
       "    <tr style=\"text-align: right;\">\n",
       "      <th></th>\n",
       "      <th>Date</th>\n",
       "      <th>PrudhoeBay</th>\n",
       "      <th>Kuparuk</th>\n",
       "      <th>Endicott</th>\n",
       "      <th>Lisburne</th>\n",
       "      <th>Alpine</th>\n",
       "    </tr>\n",
       "  </thead>\n",
       "  <tbody>\n",
       "    <tr>\n",
       "      <th>0</th>\n",
       "      <td>2021-09-01</td>\n",
       "      <td>292022</td>\n",
       "      <td>88063</td>\n",
       "      <td>0</td>\n",
       "      <td>21068</td>\n",
       "      <td>49002</td>\n",
       "    </tr>\n",
       "    <tr>\n",
       "      <th>1</th>\n",
       "      <td>2021-09-02</td>\n",
       "      <td>298546</td>\n",
       "      <td>92461</td>\n",
       "      <td>0</td>\n",
       "      <td>20472</td>\n",
       "      <td>48452</td>\n",
       "    </tr>\n",
       "    <tr>\n",
       "      <th>2</th>\n",
       "      <td>2021-09-03</td>\n",
       "      <td>289929</td>\n",
       "      <td>94146</td>\n",
       "      <td>0</td>\n",
       "      <td>18449</td>\n",
       "      <td>47901</td>\n",
       "    </tr>\n",
       "    <tr>\n",
       "      <th>3</th>\n",
       "      <td>2021-09-04</td>\n",
       "      <td>296408</td>\n",
       "      <td>94549</td>\n",
       "      <td>0</td>\n",
       "      <td>18157</td>\n",
       "      <td>47449</td>\n",
       "    </tr>\n",
       "    <tr>\n",
       "      <th>4</th>\n",
       "      <td>2021-09-05</td>\n",
       "      <td>298994</td>\n",
       "      <td>94469</td>\n",
       "      <td>0</td>\n",
       "      <td>20177</td>\n",
       "      <td>47702</td>\n",
       "    </tr>\n",
       "  </tbody>\n",
       "</table>\n",
       "</div>"
      ],
      "text/plain": [
       "        Date PrudhoeBay Kuparuk Endicott Lisburne Alpine\n",
       "0 2021-09-01     292022   88063        0    21068  49002\n",
       "1 2021-09-02     298546   92461        0    20472  48452\n",
       "2 2021-09-03     289929   94146        0    18449  47901\n",
       "3 2021-09-04     296408   94549        0    18157  47449\n",
       "4 2021-09-05     298994   94469        0    20177  47702"
      ]
     },
     "execution_count": 5,
     "metadata": {},
     "output_type": "execute_result"
    }
   ],
   "source": [
    "data_df = data_df.drop(['ANS', 'Inventories'], axis=1)\n",
    "data_df = data_df[data_df[\"Date\"].str.contains(\"Date\")==False]\n",
    "data_df['Date']= pd.to_datetime(data_df['Date'])\n",
    "data_df.dropna(how='any')\n",
    "data_df.head()"
   ]
  },
  {
   "cell_type": "code",
   "execution_count": 6,
   "id": "37cc67db",
   "metadata": {},
   "outputs": [
    {
     "data": {
      "text/html": [
       "<div>\n",
       "<style scoped>\n",
       "    .dataframe tbody tr th:only-of-type {\n",
       "        vertical-align: middle;\n",
       "    }\n",
       "\n",
       "    .dataframe tbody tr th {\n",
       "        vertical-align: top;\n",
       "    }\n",
       "\n",
       "    .dataframe thead th {\n",
       "        text-align: right;\n",
       "    }\n",
       "</style>\n",
       "<table border=\"1\" class=\"dataframe\">\n",
       "  <thead>\n",
       "    <tr style=\"text-align: right;\">\n",
       "      <th></th>\n",
       "      <th>Date</th>\n",
       "      <th>Field</th>\n",
       "      <th>Volume</th>\n",
       "    </tr>\n",
       "  </thead>\n",
       "  <tbody>\n",
       "    <tr>\n",
       "      <th>0</th>\n",
       "      <td>2021-09-01</td>\n",
       "      <td>PrudhoeBay</td>\n",
       "      <td>292022</td>\n",
       "    </tr>\n",
       "    <tr>\n",
       "      <th>1</th>\n",
       "      <td>2021-09-02</td>\n",
       "      <td>PrudhoeBay</td>\n",
       "      <td>298546</td>\n",
       "    </tr>\n",
       "    <tr>\n",
       "      <th>2</th>\n",
       "      <td>2021-09-03</td>\n",
       "      <td>PrudhoeBay</td>\n",
       "      <td>289929</td>\n",
       "    </tr>\n",
       "    <tr>\n",
       "      <th>3</th>\n",
       "      <td>2021-09-04</td>\n",
       "      <td>PrudhoeBay</td>\n",
       "      <td>296408</td>\n",
       "    </tr>\n",
       "    <tr>\n",
       "      <th>4</th>\n",
       "      <td>2021-09-05</td>\n",
       "      <td>PrudhoeBay</td>\n",
       "      <td>298994</td>\n",
       "    </tr>\n",
       "  </tbody>\n",
       "</table>\n",
       "</div>"
      ],
      "text/plain": [
       "        Date       Field  Volume\n",
       "0 2021-09-01  PrudhoeBay  292022\n",
       "1 2021-09-02  PrudhoeBay  298546\n",
       "2 2021-09-03  PrudhoeBay  289929\n",
       "3 2021-09-04  PrudhoeBay  296408\n",
       "4 2021-09-05  PrudhoeBay  298994"
      ]
     },
     "execution_count": 6,
     "metadata": {},
     "output_type": "execute_result"
    }
   ],
   "source": [
    "# found help here: https://dfrieds.com/data-analysis/melt-unpivot-python-pandas.html\n",
    "data_df = data_df.melt(id_vars=['Date'], var_name='Field', value_name='Volume')\n",
    "data_df.head()"
   ]
  },
  {
   "cell_type": "code",
   "execution_count": 7,
   "id": "6338c33f",
   "metadata": {
    "scrolled": true
   },
   "outputs": [
    {
     "data": {
      "text/html": [
       "<div>\n",
       "<style scoped>\n",
       "    .dataframe tbody tr th:only-of-type {\n",
       "        vertical-align: middle;\n",
       "    }\n",
       "\n",
       "    .dataframe tbody tr th {\n",
       "        vertical-align: top;\n",
       "    }\n",
       "\n",
       "    .dataframe thead th {\n",
       "        text-align: right;\n",
       "    }\n",
       "</style>\n",
       "<table border=\"1\" class=\"dataframe\">\n",
       "  <thead>\n",
       "    <tr style=\"text-align: right;\">\n",
       "      <th></th>\n",
       "      <th>Date</th>\n",
       "      <th>Field</th>\n",
       "      <th>Volume</th>\n",
       "    </tr>\n",
       "  </thead>\n",
       "  <tbody>\n",
       "    <tr>\n",
       "      <th>0</th>\n",
       "      <td>2021-09-01</td>\n",
       "      <td>PrudhoeBay</td>\n",
       "      <td>292022.0</td>\n",
       "    </tr>\n",
       "    <tr>\n",
       "      <th>1</th>\n",
       "      <td>2021-09-02</td>\n",
       "      <td>PrudhoeBay</td>\n",
       "      <td>298546.0</td>\n",
       "    </tr>\n",
       "    <tr>\n",
       "      <th>2</th>\n",
       "      <td>2021-09-03</td>\n",
       "      <td>PrudhoeBay</td>\n",
       "      <td>289929.0</td>\n",
       "    </tr>\n",
       "    <tr>\n",
       "      <th>3</th>\n",
       "      <td>2021-09-04</td>\n",
       "      <td>PrudhoeBay</td>\n",
       "      <td>296408.0</td>\n",
       "    </tr>\n",
       "    <tr>\n",
       "      <th>4</th>\n",
       "      <td>2021-09-05</td>\n",
       "      <td>PrudhoeBay</td>\n",
       "      <td>298994.0</td>\n",
       "    </tr>\n",
       "  </tbody>\n",
       "</table>\n",
       "</div>"
      ],
      "text/plain": [
       "        Date       Field    Volume\n",
       "0 2021-09-01  PrudhoeBay  292022.0\n",
       "1 2021-09-02  PrudhoeBay  298546.0\n",
       "2 2021-09-03  PrudhoeBay  289929.0\n",
       "3 2021-09-04  PrudhoeBay  296408.0\n",
       "4 2021-09-05  PrudhoeBay  298994.0"
      ]
     },
     "execution_count": 7,
     "metadata": {},
     "output_type": "execute_result"
    }
   ],
   "source": [
    "data_df['Volume'] = pd.to_numeric(data_df['Volume'],errors='coerce')\n",
    "data_df.head()"
   ]
  },
  {
   "cell_type": "code",
   "execution_count": 8,
   "id": "e015b3d6",
   "metadata": {},
   "outputs": [
    {
     "data": {
      "text/html": [
       "<div>\n",
       "<style scoped>\n",
       "    .dataframe tbody tr th:only-of-type {\n",
       "        vertical-align: middle;\n",
       "    }\n",
       "\n",
       "    .dataframe tbody tr th {\n",
       "        vertical-align: top;\n",
       "    }\n",
       "\n",
       "    .dataframe thead th {\n",
       "        text-align: right;\n",
       "    }\n",
       "</style>\n",
       "<table border=\"1\" class=\"dataframe\">\n",
       "  <thead>\n",
       "    <tr style=\"text-align: right;\">\n",
       "      <th></th>\n",
       "      <th>Field</th>\n",
       "      <th>Volume</th>\n",
       "    </tr>\n",
       "    <tr>\n",
       "      <th>Date</th>\n",
       "      <th></th>\n",
       "      <th></th>\n",
       "    </tr>\n",
       "  </thead>\n",
       "  <tbody>\n",
       "    <tr>\n",
       "      <th>2021-09-01</th>\n",
       "      <td>PrudhoeBay</td>\n",
       "      <td>292022.0</td>\n",
       "    </tr>\n",
       "    <tr>\n",
       "      <th>2021-09-02</th>\n",
       "      <td>PrudhoeBay</td>\n",
       "      <td>298546.0</td>\n",
       "    </tr>\n",
       "    <tr>\n",
       "      <th>2021-09-03</th>\n",
       "      <td>PrudhoeBay</td>\n",
       "      <td>289929.0</td>\n",
       "    </tr>\n",
       "    <tr>\n",
       "      <th>2021-09-04</th>\n",
       "      <td>PrudhoeBay</td>\n",
       "      <td>296408.0</td>\n",
       "    </tr>\n",
       "    <tr>\n",
       "      <th>2021-09-05</th>\n",
       "      <td>PrudhoeBay</td>\n",
       "      <td>298994.0</td>\n",
       "    </tr>\n",
       "  </tbody>\n",
       "</table>\n",
       "</div>"
      ],
      "text/plain": [
       "                 Field    Volume\n",
       "Date                            \n",
       "2021-09-01  PrudhoeBay  292022.0\n",
       "2021-09-02  PrudhoeBay  298546.0\n",
       "2021-09-03  PrudhoeBay  289929.0\n",
       "2021-09-04  PrudhoeBay  296408.0\n",
       "2021-09-05  PrudhoeBay  298994.0"
      ]
     },
     "execution_count": 8,
     "metadata": {},
     "output_type": "execute_result"
    }
   ],
   "source": [
    "data_df = data_df.set_index('Date')\n",
    "data_df.head()"
   ]
  },
  {
   "cell_type": "code",
   "execution_count": 9,
   "id": "df90f3f0",
   "metadata": {},
   "outputs": [
    {
     "data": {
      "text/plain": [
       "Index(['Field', 'Volume'], dtype='object')"
      ]
     },
     "execution_count": 9,
     "metadata": {},
     "output_type": "execute_result"
    }
   ],
   "source": [
    "data_df.columns"
   ]
  },
  {
   "cell_type": "code",
   "execution_count": 10,
   "id": "4b91989c",
   "metadata": {},
   "outputs": [],
   "source": [
    "data_df.to_csv(r'C:\\Users\\diane\\OneDrive\\Documents\\My Tableau Repository\\Datasources\\clean_akoilprod_data.csv')"
   ]
  },
  {
   "cell_type": "code",
   "execution_count": null,
   "id": "b779bb8c",
   "metadata": {},
   "outputs": [],
   "source": []
  }
 ],
 "metadata": {
  "kernelspec": {
   "display_name": "Python 3",
   "language": "python",
   "name": "python3"
  },
  "language_info": {
   "codemirror_mode": {
    "name": "ipython",
    "version": 3
   },
   "file_extension": ".py",
   "mimetype": "text/x-python",
   "name": "python",
   "nbconvert_exporter": "python",
   "pygments_lexer": "ipython3",
   "version": "3.8.11"
  }
 },
 "nbformat": 4,
 "nbformat_minor": 5
}
